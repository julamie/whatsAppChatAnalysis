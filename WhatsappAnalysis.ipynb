{
 "cells": [
  {
   "cell_type": "markdown",
   "metadata": {},
   "source": [
    "## Analysis of a WhatsApp chat"
   ]
  },
  {
   "cell_type": "markdown",
   "metadata": {},
   "source": [
    "### Run the analysis script"
   ]
  },
  {
   "cell_type": "code",
   "execution_count": null,
   "metadata": {},
   "outputs": [],
   "source": [
    "import whatsappAnalyse as wa\n",
    "import importlib\n",
    "importlib.reload(wa)\n",
    "\n",
    "# analyses an export of a WhatsApp Chat\n",
    "origFilePath = \"[CHAT_EXPORT_FILE].txt\"\n",
    "preprocessedFilePath = \"Chats/Preprocessed\" + origFilePath\n",
    "origFilePath = \"Chats/\" + origFilePath\n",
    "\n",
    "# processing data\n",
    "wa.preprocessFile(origFilePath, preprocessedFilePath)\n",
    "df = wa.convertFileToDataframe(preprocessedFilePath)\n",
    "df = wa.postprocessData(df)"
   ]
  },
  {
   "cell_type": "code",
   "execution_count": null,
   "metadata": {},
   "outputs": [],
   "source": [
    "# show a part of the dataframe\n",
    "df"
   ]
  },
  {
   "cell_type": "markdown",
   "metadata": {},
   "source": [
    "### Run the different statistics"
   ]
  },
  {
   "cell_type": "code",
   "execution_count": null,
   "metadata": {},
   "outputs": [],
   "source": [
    "display(wa.countMessagesByName(df))"
   ]
  },
  {
   "cell_type": "code",
   "execution_count": null,
   "metadata": {},
   "outputs": [],
   "source": [
    "wa.countMessagesByName(df).plot(kind=\"bar\", title=\"Number of messages per user\");"
   ]
  },
  {
   "cell_type": "code",
   "execution_count": null,
   "metadata": {},
   "outputs": [],
   "source": [
    "wa.countMessagesByName(df).plot(kind=\"pie\", title=\"Number of messages per user\");"
   ]
  },
  {
   "cell_type": "code",
   "execution_count": null,
   "metadata": {},
   "outputs": [],
   "source": [
    "wa.countWordsByName(df)"
   ]
  },
  {
   "cell_type": "code",
   "execution_count": null,
   "metadata": {},
   "outputs": [],
   "source": [
    "wa.countWordsByName(df).plot(kind=\"bar\", title=\"Number of words per user\")"
   ]
  },
  {
   "cell_type": "code",
   "execution_count": null,
   "metadata": {},
   "outputs": [],
   "source": [
    "wa.countWordsByName(df).plot(kind=\"pie\", title=\"Number of words per user\")"
   ]
  },
  {
   "cell_type": "code",
   "execution_count": null,
   "metadata": {},
   "outputs": [],
   "source": [
    "wa.calcAvrgWordsPerMessage(df)"
   ]
  },
  {
   "cell_type": "code",
   "execution_count": null,
   "metadata": {},
   "outputs": [],
   "source": [
    "import pandas as pd\n",
    "\n",
    "# show the whole output\n",
    "with pd.option_context('display.max_rows', None):\n",
    "    display(wa.getUserWordFrequency(df))"
   ]
  },
  {
   "cell_type": "code",
   "execution_count": null,
   "metadata": {},
   "outputs": [],
   "source": [
    "wa.getMessageFrequencyPerHour(df, plot=True);"
   ]
  },
  {
   "cell_type": "code",
   "execution_count": null,
   "metadata": {},
   "outputs": [],
   "source": [
    "wa.getMessageFrequencyPerMemberPerHour(df, plot=True);"
   ]
  },
  {
   "cell_type": "code",
   "execution_count": null,
   "metadata": {},
   "outputs": [],
   "source": [
    "wa.plotAvrgNumberOfMessagesInTimeFrame(df, \"Day\")"
   ]
  },
  {
   "cell_type": "code",
   "execution_count": null,
   "metadata": {},
   "outputs": [],
   "source": [
    "wa.showUseOfWordsOverTime(df, \"[INSERT_WORD]\", time_frame_in_days=60)"
   ]
  }
 ],
 "metadata": {
  "kernelspec": {
   "display_name": "Python 3",
   "language": "python",
   "name": "python3"
  },
  "language_info": {
   "codemirror_mode": {
    "name": "ipython",
    "version": 3
   },
   "file_extension": ".py",
   "mimetype": "text/x-python",
   "name": "python",
   "nbconvert_exporter": "python",
   "pygments_lexer": "ipython3",
   "version": "3.12.2"
  }
 },
 "nbformat": 4,
 "nbformat_minor": 2
}
