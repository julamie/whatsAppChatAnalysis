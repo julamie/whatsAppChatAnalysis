{
 "cells": [
  {
   "cell_type": "markdown",
   "metadata": {},
   "source": [
    "## Analysis of a WhatsApp chat"
   ]
  },
  {
   "cell_type": "markdown",
   "metadata": {},
   "source": [
    "### Imports"
   ]
  },
  {
   "cell_type": "code",
   "execution_count": 9,
   "metadata": {},
   "outputs": [],
   "source": [
    "import re\n",
    "import pandas as pd\n",
    "import numpy as np\n",
    "import seaborn as sns\n",
    "import matplotlib.pyplot as plt"
   ]
  },
  {
   "cell_type": "markdown",
   "metadata": {},
   "source": [
    "### Preprocess file"
   ]
  },
  {
   "cell_type": "code",
   "execution_count": 85,
   "metadata": {},
   "outputs": [],
   "source": [
    "# opens file, clears it from weird characters and saves result in new file\n",
    "def preprocessFile(oldPath: str, newPath: str):\n",
    "    with open(oldPath, encoding=\"utf-8\") as origFile:\n",
    "        data = origFile.read()\n",
    "\n",
    "    data = removeZeroWidthSpace(data)\n",
    "    data = escapeDoubleQuotesInData(data)\n",
    "    data = convertTextToCSVFormat(data)\n",
    "    \n",
    "    with open(newPath, 'w', encoding=\"utf-8\") as newFile:\n",
    "        newFile.write(data)\n",
    "\n",
    "# replace zero width character with empty character\n",
    "def removeZeroWidthSpace(data: str):\n",
    "    return data.replace(u'\\u200b', \"\")\n",
    "\n",
    "# escape double quotes with \\ to prevent messing with the data when converting\n",
    "def escapeDoubleQuotesInData(data: str):\n",
    "    data = data.replace('\"', r'\\\"')\n",
    "    return data\n",
    "\n",
    "# edit format of file to csv, add quotation marks around messages and end message with EXT (End of text)\n",
    "def convertTextToCSVFormat(data: str):\n",
    "    # Line format: Date, Time - Sender: Message\n",
    "    # Allowed date format examples 24.12.24, 24.12.2024, 24/12/24, 24/12/2024\n",
    "    pattern = re.compile(r\"(?P<Timestamp>\\d{2}[./]\\d{2}[./](\\d{2}|\\d{4}), \\d{2}:\\d{2}) - (?P<Message>.*)\")\n",
    "    timestamp, name, message = \"Timestamp\", \"Name\", \"Message\"\n",
    "\n",
    "    convertedData = []\n",
    "    for line in data.split(\"\\n\"):\n",
    "        newMessageRegex = pattern.match(line)\n",
    "\n",
    "        # determine the parts of the message and save them to converted data as soon as a new message appears\n",
    "        if newMessageRegex:\n",
    "            convertedData.append(f\"{timestamp}\\t{name}\\t{message}\\x03\") # \\x03 is the escape char for End of Text\n",
    "            timestamp = newMessageRegex.group(\"Timestamp\")\n",
    "            information = newMessageRegex.group(\"Message\")\n",
    "\n",
    "            (name, message) = splitInformation(information)\n",
    "        # the message continues at a new line, add them to the current message\n",
    "        else: \n",
    "            message += \"\\n\" + line\n",
    "\n",
    "    return \"\\n\".join(convertedData)\n",
    "\n",
    "def splitInformation(information: str):\n",
    "    # sender name is either the contact name or a telephone number\n",
    "    informationRegex = re.match(r\"(?P<Sender>([\\w\\s]+|([\\+\\d\\s]+))): (?P<Text>.*)\", information)\n",
    "\n",
    "    # if there is no sender, the message has been an information from the WhatsApp application\n",
    "    # example: X has left the chat\n",
    "    if not informationRegex:\n",
    "        return (\"WhatsApp\", '\"' + information + '\"')\n",
    "\n",
    "    # surround message by double quotes\n",
    "    return (informationRegex.group(\"Sender\"), '\"' + informationRegex.group(\"Text\") + '\"')\n",
    "\n",
    "# converts our preprocessed file into a pandas dataframe\n",
    "def convertFileToDataframe(path: str):\n",
    "    df = pd.read_csv(path, usecols=range(3), skipinitialspace=True,\n",
    "                     lineterminator=\"\\x03\", escapechar='\\\\',\n",
    "                     delimiter=\"\\t\", parse_dates=[\"Timestamp\"],\n",
    "                     date_format=\"mixed\", dayfirst=True, \n",
    "                     encoding=\"utf-8\")\n",
    "    # show full length of message when printing\n",
    "    pd.set_option(\"max_colwidth\", None)\n",
    "    pd.set_option(\"max_seq_item\", None)\n",
    "\n",
    "    return df\n"
   ]
  },
  {
   "cell_type": "markdown",
   "metadata": {},
   "source": [
    "### Postprocess data"
   ]
  },
  {
   "cell_type": "code",
   "execution_count": 86,
   "metadata": {},
   "outputs": [],
   "source": [
    "# cleans the dataframe after creation\n",
    "def postprocessData(df: pd.DataFrame):\n",
    "    # add new data\n",
    "    addColumnMessageLength(df)\n",
    "    addColumnNumberOfWords(df)\n",
    "\n",
    "    # replace false data\n",
    "    replaceNanMessages(df)\n",
    "    return df\n",
    "\n",
    "# adds length of message as a column to dataframe\n",
    "def addColumnMessageLength(df: pd.DataFrame):\n",
    "    df[\"Message length\"] = df[\"Message\"].str.len()\n",
    "\n",
    "# adds number of words in message as a column\n",
    "def addColumnNumberOfWords(df: pd.DataFrame):\n",
    "    df[\"Message word count\"] = df[\"Message\"].apply(lambda x: len(str(x).split(' ')))\n",
    "\n",
    "# changes messages which are NaN to the correct ones: One time messages\n",
    "def replaceNanMessages(df: pd.DataFrame):\n",
    "    df[\"Message\"] = df[\"Message\"].fillna(\"<Media omitted>\")\n",
    "    df[\"Message length\"] = df[\"Message length\"].fillna(15)\n",
    "    df[\"Message word count\"] = df[\"Message word count\"].fillna(2)"
   ]
  },
  {
   "cell_type": "markdown",
   "metadata": {},
   "source": [
    "### Implementation of the statistical analysis methods"
   ]
  },
  {
   "cell_type": "code",
   "execution_count": 159,
   "metadata": {},
   "outputs": [],
   "source": [
    "# count how many messages everyone sent\n",
    "def countMessagesByName(df: pd.DataFrame):\n",
    "    return df.groupby(\"Name\")[\"Message\"] \\\n",
    "             .count() \\\n",
    "             .sort_values(ascending=False)\n",
    "\n",
    "# count how many words everyone sent\n",
    "def countWordsByName(df: pd.DataFrame):\n",
    "    return df.groupby(\"Name\")[\"Message word count\"] \\\n",
    "             .sum() \\\n",
    "             .sort_values(ascending=False)\n",
    "\n",
    "# calculate the average number of words per message\n",
    "def calcAvrgWordsPerMessage(df: pd.DataFrame):\n",
    "    data = df.groupby(\"Name\") \\\n",
    "        .agg({\n",
    "            \"Message\": \"count\",\n",
    "            \"Message length\": \"sum\",\n",
    "            \"Message word count\": \"sum\"\n",
    "        })\n",
    "    \n",
    "    data[\"length/message\"] = data[\"Message length\"] / data[\"Message\"]\n",
    "    data[\"words/message\"] = data[\"Message word count\"] / data[\"Message\"]\n",
    "    return data.sort_values(by=\"Message\", ascending=False)\n",
    "\n",
    "# returns the frequency of words a member of the group has said\n",
    "def getUserWordFrequency(df: pd.DataFrame, name: str = \"\", top_n: int = 100):\n",
    "    # filter by name or select messages sent by all\n",
    "    if name == \"\":\n",
    "        userMsg = df\n",
    "    else:\n",
    "        userMsg = df[df[\"Name\"] == name]\n",
    "\n",
    "    # drop message <Media omitted> and <Medien ausgeschlossen> (german)\n",
    "    userMsg = userMsg[(userMsg[\"Message\"] == \"<Media omitted>\") == False]\n",
    "    userMsg = userMsg[(userMsg[\"Message\"] == \"<Medien ausgeschlossen>\") == False]\n",
    "\n",
    "    # ignore if word is in upper or lowercase\n",
    "    # remove chained assignment: userMsg[\"Message\"] = userMsg[\"Message\"].str.lower()\n",
    "    userMsg.loc[:,\"Message\"] = userMsg.loc[:, \"Message\"].str.lower()\n",
    "\n",
    "    # source: https://stackoverflow.com/questions/64022617/counting-occurrences-of-word-in-a-string-in-pandas\n",
    "    # give every word its own row\n",
    "    userMsg = userMsg.assign(word = userMsg[\"Message\"].str.split()) \\\n",
    "                            .explode(\"word\")\n",
    "\n",
    "    # remove special chars before or after words\n",
    "    userMsg[\"word\"] = userMsg[\"word\"].str.strip(\",:().*?!\")\n",
    "\n",
    "    # count all occurrences of words in the messages\n",
    "    counts = userMsg[[\"word\", \"Message word count\"]] \\\n",
    "                .groupby(\"word\").count() \\\n",
    "                .sort_values(by=\"Message word count\", ascending=False)\n",
    "\n",
    "    counts = counts.reset_index()\n",
    "\n",
    "    return counts.head(top_n)\n",
    "\n",
    "def getMessageFrequencyPerHour(df: pd.DataFrame, plot: bool = False):\n",
    "    # set time of every message to full hour\n",
    "    df[\"Hour\"] = df[\"Timestamp\"].dt.hour\n",
    "\n",
    "    # count the messages sent in this hour\n",
    "    df = df.groupby(\"Hour\")[\"Message\"].count().to_frame()\n",
    "    if plot:\n",
    "        df.plot(kind=\"bar\", title=\"Number of messages per hour\", xlabel=\"Hour\", ylabel=\"Messages sent\")\n",
    "    return df\n",
    "\n",
    "def getMessageFrequencyPerMemberPerHour(df: pd.DataFrame, plot: bool = False):\n",
    "    # set time of every message to full hour\n",
    "    df[\"Hour\"] = df[\"Timestamp\"].dt.hour\n",
    "\n",
    "    # count the messages sent in this hour\n",
    "    df = df.groupby([\"Name\", \"Hour\"])[\"Message\"].count().to_frame()\n",
    "    \n",
    "    # pivot table for more compact display\n",
    "    df = pd.pivot_table(data=df, index='Hour', columns='Name', values='Message')\n",
    "    \n",
    "    # fill NaN with 0 and change datatype back to int\n",
    "    df = df.fillna(0).astype(int)\n",
    "    \n",
    "    if plot:\n",
    "        numberOfUsers = df.shape[1]\n",
    "        df.plot(kind=\"bar\", subplots=True, \n",
    "                legend=False, figsize=(10, 3 * numberOfUsers), ylabel=\"Number of messages\")\n",
    "    return df\n",
    "\n",
    "def getMessageFrequencyPerDay(df: pd.DataFrame):\n",
    "    df[\"Date\"] = df[\"Timestamp\"].dt.date\n",
    "    msgPerDay = df.groupby(\"Date\")[\"Date\"] \\\n",
    "                .count() \\\n",
    "                .reset_index(name=\"Number of messages\")\n",
    "    \n",
    "    # save Date as Datetime object to better sort \n",
    "    msgPerDay[\"Date\"] = pd.to_datetime(msgPerDay[\"Date\"])\n",
    "    msgPerDay = msgPerDay.sort_values(by=\"Date\")\n",
    "\n",
    "    return msgPerDay\n",
    "\n",
    "def plotAvrgNumberOfMessagesInTimeFrame(df: pd.DataFrame, time_frame: str):\n",
    "    # per day\n",
    "    if time_frame == \"Day\":\n",
    "        msgPerDay = getMessageFrequencyPerDay(df)\n",
    "        msgPerDay[\"Date\"] = msgPerDay[\"Date\"].dt.dayofweek\n",
    "        msgPerDay = msgPerDay.groupby(\"Date\").mean()\n",
    "\n",
    "        day_names = [\"Mon\", \"Tue\", \"Wed\", \"Thu\", \"Fri\", \"Sat\", \"Sun\"]\n",
    "        plot = msgPerDay.plot.bar(xlabel=\"Weekday\", title = \"Average number of messages per day of the week\",\n",
    "                                  ylabel=\"Number of messages sent\")\n",
    "        plot.set_xticklabels(day_names)\n",
    "        return plot\n",
    "\n",
    "    # per week\n",
    "    if time_frame == \"Week\":\n",
    "        msgPerWeek = getMessageFrequencyPerDay(df)\n",
    "        msgPerWeek[\"Date\"] = msgPerWeek[\"Date\"].dt.isocalendar().week\n",
    "        msgPerWeek = msgPerWeek.groupby(\"Date\").mean()\n",
    "\n",
    "        return msgPerWeek.plot.bar(xlabel=\"Week\", title= \"Average number of messages for every week of the year\",\n",
    "                                   ylabel=\"Number of messages sent\", figsize=(20,10))\n",
    "\n",
    "    # per month\n",
    "    if time_frame == \"Month\":\n",
    "        msgPerMonth = getMessageFrequencyPerDay(df)\n",
    "        msgPerMonth[\"Date\"] = msgPerMonth[\"Date\"].dt.month\n",
    "        msgPerMonth = msgPerMonth.groupby(\"Date\").mean()\n",
    "\n",
    "        month_names = [\"Jan\", \"Feb\", \"Mar\", \"Apr\", \"May\", \"Jun\", \"Jul\", \"Aug\", \"Sep\", \"Oct\", \"Nov\", \"Dec\"]\n",
    "        plot = msgPerMonth.plot.bar(xlabel=\"Month\", title= \"Average number of messages for every month of the year\",\n",
    "                                    ylabel=\"Number of messages sent\")\n",
    "        plot.set_xticklabels(month_names)\n",
    "        return plot\n",
    "\n",
    "def showUseOfWordsOverTime(df: pd.DataFrame, word: str, time_frame_in_days: int, name: str = \"\"):\n",
    "    # use only the messages of a certain person if specified\n",
    "    if name:\n",
    "        df = df[df[\"Name\"] == name]\n",
    "    \n",
    "    # set the date as the index\n",
    "    df = df.sort_values(by=\"Timestamp\")\n",
    "    df.index = df[\"Timestamp\"]\n",
    "\n",
    "    # filter out the messages where one of the words are mentioned\n",
    "    word_mentions = df[df[\"Message\"].str.contains(word, na=False)]\n",
    "\n",
    "    # create rolling window of mentions\n",
    "    word_rolling = word_mentions[\"Message\"].rolling(str(time_frame_in_days) + \"D\").count()\n",
    "\n",
    "    # plot the rolling series\n",
    "    return word_rolling.plot(kind=\"line\")"
   ]
  },
  {
   "cell_type": "markdown",
   "metadata": {},
   "source": [
    "### Run the analysis script"
   ]
  },
  {
   "cell_type": "code",
   "execution_count": 176,
   "metadata": {},
   "outputs": [],
   "source": [
    "# analyses an export of a WhatsApp Chat\n",
    "origFilePath = \"[CHAT_EXPORT_FILE].txt\"\n",
    "preprocessedFilePath = \"Chats/Preprocessed\" + origFilePath\n",
    "origFilePath = \"Chats/\" + origFilePath\n",
    "\n",
    "# processing data\n",
    "preprocessFile(origFilePath, preprocessedFilePath)\n",
    "df = convertFileToDataframe(preprocessedFilePath)\n",
    "df = postprocessData(df)"
   ]
  },
  {
   "cell_type": "code",
   "execution_count": null,
   "metadata": {},
   "outputs": [],
   "source": [
    "# show a part of the dataframe\n",
    "df"
   ]
  },
  {
   "cell_type": "markdown",
   "metadata": {},
   "source": [
    "### Run the different statistics"
   ]
  },
  {
   "cell_type": "code",
   "execution_count": null,
   "metadata": {},
   "outputs": [],
   "source": [
    "display(countMessagesByName(df))"
   ]
  },
  {
   "cell_type": "code",
   "execution_count": null,
   "metadata": {},
   "outputs": [],
   "source": [
    "countMessagesByName(df).plot(kind=\"bar\", title=\"Number of messages per user\");"
   ]
  },
  {
   "cell_type": "code",
   "execution_count": null,
   "metadata": {},
   "outputs": [],
   "source": [
    "countMessagesByName(df).plot(kind=\"pie\", title=\"Number of messages per user\");"
   ]
  },
  {
   "cell_type": "code",
   "execution_count": null,
   "metadata": {},
   "outputs": [],
   "source": [
    "countWordsByName(df)"
   ]
  },
  {
   "cell_type": "code",
   "execution_count": null,
   "metadata": {},
   "outputs": [],
   "source": [
    "countWordsByName(df).plot(kind=\"bar\", title=\"Number of words per user\")"
   ]
  },
  {
   "cell_type": "code",
   "execution_count": null,
   "metadata": {},
   "outputs": [],
   "source": [
    "countWordsByName(df).plot(kind=\"pie\", title=\"Number of words per user\")"
   ]
  },
  {
   "cell_type": "code",
   "execution_count": null,
   "metadata": {},
   "outputs": [],
   "source": [
    "calcAvrgWordsPerMessage(df)"
   ]
  },
  {
   "cell_type": "code",
   "execution_count": null,
   "metadata": {},
   "outputs": [],
   "source": [
    "# show the whole output\n",
    "with pd.option_context('display.max_rows', None):\n",
    "    display(getUserWordFrequency(df))"
   ]
  },
  {
   "cell_type": "code",
   "execution_count": null,
   "metadata": {},
   "outputs": [],
   "source": [
    "getMessageFrequencyPerHour(df, plot=True);"
   ]
  },
  {
   "cell_type": "code",
   "execution_count": null,
   "metadata": {},
   "outputs": [],
   "source": [
    "getMessageFrequencyPerMemberPerHour(df, plot=True);"
   ]
  },
  {
   "cell_type": "code",
   "execution_count": null,
   "metadata": {},
   "outputs": [],
   "source": [
    "plotAvrgNumberOfMessagesInTimeFrame(df, \"Day\")"
   ]
  },
  {
   "cell_type": "code",
   "execution_count": null,
   "metadata": {},
   "outputs": [],
   "source": [
    "showUseOfWordsOverTime(df, \"[INSERT_WORD]\", time_frame_in_days=60)"
   ]
  }
 ],
 "metadata": {
  "kernelspec": {
   "display_name": "Python 3",
   "language": "python",
   "name": "python3"
  },
  "language_info": {
   "codemirror_mode": {
    "name": "ipython",
    "version": 3
   },
   "file_extension": ".py",
   "mimetype": "text/x-python",
   "name": "python",
   "nbconvert_exporter": "python",
   "pygments_lexer": "ipython3",
   "version": "3.12.2"
  }
 },
 "nbformat": 4,
 "nbformat_minor": 2
}
